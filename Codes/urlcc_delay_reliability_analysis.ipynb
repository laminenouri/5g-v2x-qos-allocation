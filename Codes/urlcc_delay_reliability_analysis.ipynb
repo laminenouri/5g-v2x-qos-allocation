{
 "cells": [
  {
   "cell_type": "markdown",
   "id": "890993eb",
   "metadata": {},
   "source": [
    "# URLLC Delay Reliability Analysis\n",
    "\n",
    "This notebook computes the reliability of the URLLC (class 2) traffic using the simulated delay distribution or an analytical stationary distribution π(k)."
   ]
  },
  {
   "cell_type": "code",
   "execution_count": null,
   "id": "3dfb07b9",
   "metadata": {},
   "outputs": [],
   "source": [
    "import numpy as np\n",
    "import matplotlib.pyplot as plt\n",
    "from scipy.stats import norm"
   ]
  },
  {
   "cell_type": "code",
   "execution_count": null,
   "id": "b747191f",
   "metadata": {},
   "outputs": [],
   "source": [
    "def compute_delay_probability(pi, T, D):\n",
    "    \"\"\"\n",
    "    Computes P(delay ≤ D) using the stationary distribution pi,\n",
    "    with time slot T (in ms) and delay threshold D (in ms).\n",
    "    \"\"\"\n",
    "    k_max = int(D // T)\n",
    "    return np.sum(pi[:k_max + 1])\n"
   ]
  },
  {
   "cell_type": "markdown",
   "id": "10f44ba0",
   "metadata": {},
   "source": [
    "## Example: Analytical Stationary Distribution π(k)"
   ]
  },
  {
   "cell_type": "code",
   "execution_count": null,
   "id": "be473288",
   "metadata": {},
   "outputs": [],
   "source": [
    "# Example stationary distribution (pi_k for k = 0 to 10)\n",
    "pi = np.array([0.2, 0.18, 0.16, 0.13, 0.10, 0.08, 0.06, 0.04, 0.03, 0.01, 0.01])\n",
    "\n",
    "# Parameters\n",
    "T = 1.0  # 1 ms per service\n",
    "D = 5.0  # Delay threshold in ms\n",
    "\n",
    "# Compute and display reliability\n",
    "P_delay = compute_delay_probability(pi, T, D)\n",
    "print(f\"Analytical P(delay ≤ {D} ms) = {P_delay:.5f}\")\n"
   ]
  },
  {
   "cell_type": "markdown",
   "id": "3b672b75",
   "metadata": {},
   "source": [
    "## Example: Reliability from simulated delay histogram"
   ]
  },
  {
   "cell_type": "code",
   "execution_count": null,
   "id": "1b64e553",
   "metadata": {},
   "outputs": [],
   "source": [
    "# Simulated delay histogram (example)\n",
    "delays = np.array([1.0]*80 + [2.0]*20)  # 80% of packets at 1 ms, 20% at 2 ms\n",
    "\n",
    "# Define delay threshold\n",
    "threshold = 1.5\n",
    "\n",
    "# Compute reliability from histogram\n",
    "R_sim = np.mean(delays <= threshold)\n",
    "print(f\"Simulated reliability R(D ≤ {threshold} ms): {R_sim:.5f}\")\n"
   ]
  },
  {
   "cell_type": "code",
   "execution_count": null,
   "id": "cb9c5a6c",
   "metadata": {},
   "outputs": [],
   "source": [
    "# Plot histogram\n",
    "plt.hist(delays, bins=[0.5, 1.0, 1.5, 2.0, 2.5], edgecolor='black', alpha=0.7)\n",
    "plt.axvline(threshold, color='red', linestyle='--', label=f'Threshold D={threshold} ms')\n",
    "plt.title(\"Simulated Delay Distribution (Class 2)\")\n",
    "plt.xlabel(\"Delay (ms)\")\n",
    "plt.ylabel(\"Frequency\")\n",
    "plt.legend()\n",
    "plt.grid(True)\n",
    "plt.show()\n"
   ]
  }
 ],
 "metadata": {},
 "nbformat": 4,
 "nbformat_minor": 5
}
